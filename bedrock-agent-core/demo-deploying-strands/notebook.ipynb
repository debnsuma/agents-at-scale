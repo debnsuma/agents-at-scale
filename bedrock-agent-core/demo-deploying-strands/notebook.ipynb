{
 "cells": [
  {
   "cell_type": "markdown",
   "id": "5c0122e65c053f38",
   "metadata": {},
   "source": [
    "# Strands Agents with Amazon Bedrock AgentCore Runtime\n"
   ]
  },
  {
   "cell_type": "markdown",
   "id": "19906343",
   "metadata": {},
   "source": [
    "## Overview"
   ]
  },
  {
   "cell_type": "markdown",
   "id": "3870c83c",
   "metadata": {},
   "source": [
    "In this tutorial we will learn how to host your existing agent, using Amazon Bedrock AgentCore Runtime. \n",
    "For demonstration purposes, we will  use a Strands Agent using Amazon Bedrock models\n",
    "\n",
    "In our example we will use a very simple agent with tools like: `file_read`, `file_write`, `speak`\n",
    "\n",
    "### Tutorial Key Features\n",
    "\n",
    "* Hosting Agents on Amazon Bedrock AgentCore Runtime\n",
    "* Using Amazon Bedrock models\n",
    "* Using Strands Agents"
   ]
  },
  {
   "cell_type": "markdown",
   "id": "3a676f58ecf52b42",
   "metadata": {},
   "source": [
    "## Prerequisites"
   ]
  },
  {
   "cell_type": "markdown",
   "id": "a579e42e",
   "metadata": {},
   "source": [
    "To execute this tutorial you will need:\n",
    " * Python 3.10+\n",
    " * AWS credentials\n",
    " * Amazon Bedrock AgentCore SDK\n",
    " * Strands Agents\n",
    " * Docker running\n",
    " \n",
    "First, install the required dependencies by running this command in your terminal:\n",
    " \n",
    "```bash\n",
    "$ uv add -r requirements.txt\n",
    "```\n",
    " \n",
    "This will install all the necessary packages listed in the requirements.txt file using the uv package manager."
   ]
  },
  {
   "cell_type": "markdown",
   "id": "5f3fbb9d",
   "metadata": {},
   "source": [
    "## Creating your agents and experimenting locally\n"
   ]
  },
  {
   "cell_type": "markdown",
   "id": "ca924a7a2731e26f",
   "metadata": {},
   "source": [
    "Before we deploy our agents to AgentCore Runtime, we need to modify our existing application. With AgentCore Runtime, we will decorate the invocation part of our agent with the `@app.entrypoint` decorator and have it as the entry point for our runtime. \n",
    "\n",
    "For production agentic applications we will need to decouple the agent creation process from the agent invocation one. With AgentCore Runtime, we will decorate the invocation part of our agent with the `@app.entrypoint` decorator and have it as the entry point for our runtime. Let's first look how each agent is developed during the experimentation phase.\n",
    "\n",
    "```python\n",
    "from bedrock_agentcore import BedrockAgentCoreApp\n",
    "from strands import Agent\n",
    "from strands_tools import file_read, file_write, speak\n",
    "\n",
    "# Step 1: Define the app \n",
    "app = BedrockAgentCoreApp()\n",
    "\n",
    "# Step 2: Define the system prompt\n",
    "system_prompt = \"\"\"YOUR_SYSTEM_PROMPT\"\"\"\n",
    "\n",
    "# Step 3: Define the agent\n",
    "agent = Agent(\n",
    "    system_prompt=system_prompt,\n",
    "    tools=[\n",
    "        file_read,\n",
    "        file_write,\n",
    "        speak,\n",
    "    ],\n",
    ")\n",
    "\n",
    "@app.entrypoint\n",
    "def invoke(payload):\n",
    "    \"\"\"Process user input and return a response\"\"\"\n",
    "    user_message = payload.get(\"prompt\", \"Hello\")\n",
    "    result = agent(user_message)\n",
    "    return {\"result\": result.message}\n",
    "\n",
    "if __name__ == \"__main__\":\n",
    "    app.run()\n"
   ]
  },
  {
   "cell_type": "markdown",
   "id": "e385291b",
   "metadata": {},
   "source": [
    "## Under the hood"
   ]
  },
  {
   "cell_type": "markdown",
   "id": "63a1f0ba",
   "metadata": {},
   "source": [
    "When you use `BedrockAgentCoreApp`, it automatically:\n",
    "\n",
    "* Creates an HTTP server that listens on the port 8080\n",
    "* Implements the required `/invocations` endpoint for processing the agent's requirements\n",
    "* Implements the `/ping` endpoint for health checks (very important for asynchronous agents)\n",
    "* Handles proper content types and response formats\n",
    "* Manages error handling according to the AWS standards"
   ]
  },
  {
   "cell_type": "markdown",
   "id": "5229f093",
   "metadata": {},
   "source": [
    "## Deploying the agent to AgentCore Runtime (using `agentcore cli`)"
   ]
  },
  {
   "cell_type": "markdown",
   "id": "842cad5f",
   "metadata": {},
   "source": [
    "### **Step 1:** Configure the agent using `agentcore configure`"
   ]
  },
  {
   "cell_type": "markdown",
   "id": "982bf0d7",
   "metadata": {},
   "source": [
    "```bash\n",
    "$ agentcore configure --entrypoint app.py \\\n",
    "                    --execution-role arn:aws:iam::507922848584:role/genesis-pa-runtime-01-role \\\n",
    "                    --requirements-file requirements.txt \\\n",
    "                    --ecr auto \\\n",
    "                    --disable-otel \\\n",
    "                    --name my_demo_agent_01\n",
    "```\n",
    "\n",
    "# <div align=\"center\"><img src=\"../imgs/agentcore_configure.png\" width=\"1000\"/></div>"
   ]
  },
  {
   "cell_type": "markdown",
   "id": "2f26354d",
   "metadata": {},
   "source": [
    "### **Step 2:** Launch the agent using `agentcore launch`"
   ]
  },
  {
   "cell_type": "markdown",
   "id": "b9fb3ea7",
   "metadata": {},
   "source": [
    "```bash\n",
    "$ agentcore launch\n",
    "```\n",
    "# <div align=\"center\"><img src=\"../imgs/agent_launch_2.png\" width=\"1200\"/></div>\n",
    "\n",
    "At this point in time, your agentic application is pushed to ECR \n",
    "\n",
    "# <div align=\"center\"><img src=\"../imgs/agent_launch_0.png\" width=\"800\"/></div>\n"
   ]
  },
  {
   "cell_type": "markdown",
   "id": "e187c55e",
   "metadata": {},
   "source": [
    "### **Step 3:** Launch the agent using `agentcore invoke`"
   ]
  },
  {
   "cell_type": "markdown",
   "id": "5ae4d27f",
   "metadata": {},
   "source": [
    "\n",
    "```bash\n",
    "$ agentcore invoke '{\"prompt\": \"list all files in the current directory\"}'\n",
    "```\n",
    "\n",
    "# <div align=\"center\"><img src=\"../imgs/agent_invoke.png\" width=\"1200\"/></div>\n"
   ]
  },
  {
   "cell_type": "markdown",
   "id": "0beb75db",
   "metadata": {},
   "source": [
    "## Invoke the agent (using `boto3`)"
   ]
  },
  {
   "cell_type": "markdown",
   "id": "707575f5",
   "metadata": {},
   "source": [
    "### **Step 0:** Create Bedorck AgentCore Client"
   ]
  },
  {
   "cell_type": "code",
   "execution_count": 1,
   "id": "bb8db30a",
   "metadata": {},
   "outputs": [],
   "source": [
    "import boto3\n",
    "import json\n",
    "import uuid\n",
    "\n",
    "region = 'us-east-1'\n",
    "\n",
    "# Create a client for the control plane\n",
    "bedrock_agent_core = boto3.client('bedrock-agentcore-control', region_name=region)\n",
    "\n",
    "# Create a client for the runtime\n",
    "bedrock_agent_core_runtime = boto3.client('bedrock-agentcore', region_name=region)"
   ]
  },
  {
   "cell_type": "markdown",
   "id": "ae1d62d9",
   "metadata": {},
   "source": [
    "# <div align=\"center\"><img src=\"../imgs/agent_invoke_boto3.png\" width=\"1200\"/></div>\n"
   ]
  },
  {
   "cell_type": "markdown",
   "id": "5a86342e",
   "metadata": {},
   "source": [
    "### **Step 1:** List the agents"
   ]
  },
  {
   "cell_type": "code",
   "execution_count": 2,
   "id": "957c1db6",
   "metadata": {},
   "outputs": [
    {
     "data": {
      "text/plain": [
       "[{'agentRuntimeArn': 'arn:aws:bedrock-agentcore:us-east-1:507922848584:runtime/my_demo_agent_01-R459msC7UO',\n",
       "  'agentRuntimeId': 'my_demo_agent_01-R459msC7UO',\n",
       "  'agentRuntimeVersion': '1',\n",
       "  'agentRuntimeName': 'my_demo_agent_01',\n",
       "  'lastUpdatedAt': datetime.datetime(2025, 7, 17, 17, 18, 31, 171955, tzinfo=tzutc()),\n",
       "  'status': 'READY'},\n",
       " {'agentRuntimeArn': 'arn:aws:bedrock-agentcore:us-east-1:507922848584:runtime/my_demo_agent_02-EBURnU4V7T',\n",
       "  'agentRuntimeId': 'my_demo_agent_02-EBURnU4V7T',\n",
       "  'agentRuntimeVersion': '1',\n",
       "  'agentRuntimeName': 'my_demo_agent_02',\n",
       "  'lastUpdatedAt': datetime.datetime(2025, 7, 17, 17, 47, 59, 734599, tzinfo=tzutc()),\n",
       "  'status': 'READY'},\n",
       " {'agentRuntimeArn': 'arn:aws:bedrock-agentcore:us-east-1:507922848584:runtime/my_demo_agent_03-AXarlFDh6I',\n",
       "  'agentRuntimeId': 'my_demo_agent_03-AXarlFDh6I',\n",
       "  'agentRuntimeVersion': '1',\n",
       "  'agentRuntimeName': 'my_demo_agent_03',\n",
       "  'lastUpdatedAt': datetime.datetime(2025, 7, 17, 17, 46, 59, 673065, tzinfo=tzutc()),\n",
       "  'status': 'READY'}]"
      ]
     },
     "execution_count": 2,
     "metadata": {},
     "output_type": "execute_result"
    }
   ],
   "source": [
    "bedrock_agent_core.list_agent_runtimes()['agentRuntimes']"
   ]
  },
  {
   "cell_type": "markdown",
   "id": "3a9bcf1e",
   "metadata": {},
   "source": [
    "### **Step 2:** Select an Agent of your choice "
   ]
  },
  {
   "cell_type": "code",
   "execution_count": 3,
   "id": "f296ae73",
   "metadata": {},
   "outputs": [
    {
     "data": {
      "text/html": [
       "\n",
       "        <div style=\"\n",
       "            background-color: #4CAF50; \n",
       "            color: white; \n",
       "            font-weight: bold; \n",
       "            font-size: 16px; \n",
       "            padding: 10px; \n",
       "            border-radius: 5px; \n",
       "            margin-bottom: 10px;\n",
       "            width: fit-content;\">\n",
       "            🎯 Select an Agent Runtime ARN\n",
       "        </div>\n",
       "    "
      ],
      "text/plain": [
       "<IPython.core.display.HTML object>"
      ]
     },
     "metadata": {},
     "output_type": "display_data"
    },
    {
     "data": {
      "application/vnd.jupyter.widget-view+json": {
       "model_id": "253e7d32aeb34921818efe6d5e581f51",
       "version_major": 2,
       "version_minor": 0
      },
      "text/plain": [
       "VBox(children=(Dropdown(layout=Layout(width='90%'), options=('arn:aws:bedrock-agentcore:us-east-1:507922848584…"
      ]
     },
     "metadata": {},
     "output_type": "display_data"
    },
    {
     "data": {
      "application/vnd.jupyter.widget-view+json": {
       "model_id": "3b73545652ac43f9acb43cf06a53884f",
       "version_major": 2,
       "version_minor": 0
      },
      "text/plain": [
       "Output()"
      ]
     },
     "metadata": {},
     "output_type": "display_data"
    }
   ],
   "source": [
    "from utills import select_agent_runtime\n",
    "\n",
    "# Step 1: Get the list of agent runtimes\n",
    "agent_runtimes = bedrock_agent_core.list_agent_runtimes()['agentRuntimes']\n",
    "arn_widget = select_agent_runtime(agent_runtimes)"
   ]
  },
  {
   "cell_type": "code",
   "execution_count": 4,
   "id": "57d1aea9",
   "metadata": {},
   "outputs": [
    {
     "name": "stdout",
     "output_type": "stream",
     "text": [
      "Your selected agent runtime ARN is: arn:aws:bedrock-agentcore:us-east-1:507922848584:runtime/my_demo_agent_01-R459msC7UO\n"
     ]
    }
   ],
   "source": [
    "myagentRuntimeArn = arn_widget.value\n",
    "print(f\"Your selected agent runtime ARN is: {myagentRuntimeArn}\")"
   ]
  },
  {
   "cell_type": "markdown",
   "id": "bdd52b53",
   "metadata": {},
   "source": [
    "### **Step 3:** Invoke the agent"
   ]
  },
  {
   "cell_type": "code",
   "execution_count": 5,
   "id": "7d986d5c",
   "metadata": {},
   "outputs": [],
   "source": [
    "runtimeSessionId=str(uuid.uuid4())\n",
    "\n",
    "response = bedrock_agent_core_runtime.invoke_agent_runtime(\n",
    "    agentRuntimeArn=myagentRuntimeArn,\n",
    "    qualifier=\"DEFAULT\",\n",
    "    runtimeSessionId=runtimeSessionId,\n",
    "    payload = json.dumps({\"prompt\": \"Hi, how are you ?\"}).encode()\n",
    ")"
   ]
  },
  {
   "cell_type": "code",
   "execution_count": 6,
   "id": "bad2b727",
   "metadata": {},
   "outputs": [
    {
     "data": {
      "text/markdown": [
       "### 🤖 Bedrock AgentCore Response\n",
       "Hello! I'm doing well, thank you for asking. I'm your helpful assistant ready to help you with various tasks like reading and writing files, summarizing content, or even converting text to speech. \n",
       "\n",
       "Is there something specific I can help you with today? Perhaps you'd like me to:\n",
       "- Read or summarize a document for you\n",
       "- Create a new file with some content\n",
       "- Check what files are in a directory\n",
       "- Or assist with something else?\n",
       "\n",
       "Just let me know what you need!"
      ],
      "text/plain": [
       "<IPython.core.display.Markdown object>"
      ]
     },
     "metadata": {},
     "output_type": "display_data"
    }
   ],
   "source": [
    "from utills import process_output\n",
    "process_output(response)"
   ]
  },
  {
   "cell_type": "markdown",
   "id": "0c097917",
   "metadata": {},
   "source": [
    "### **Step 4:** Chat based invocation"
   ]
  },
  {
   "cell_type": "code",
   "execution_count": 7,
   "id": "121b98e7",
   "metadata": {},
   "outputs": [
    {
     "name": "stdout",
     "output_type": "stream",
     "text": [
      "🤖 Bedrock AgentCore: \n"
     ]
    },
    {
     "data": {
      "text/markdown": [
       "<div style=\"background-color:#f0f8ff; padding:10px; border-radius:8px; border-left:4px solid #4682B4;\">\n",
       "🤖 <strong>Bedrock AgentCore</strong>:<br><br>Hello again! I'm here and ready to help you with any tasks you might have. If you have any files you'd like me to read, content you'd like me to create, or any other assistance you need, please let me know. I'm ready whenever you are.\n",
       "</div>"
      ],
      "text/plain": [
       "<IPython.core.display.Markdown object>"
      ]
     },
     "metadata": {},
     "output_type": "display_data"
    },
    {
     "name": "stdout",
     "output_type": "stream",
     "text": [
      "🤖 Bedrock AgentCore: \n"
     ]
    },
    {
     "data": {
      "text/markdown": [
       "<div style=\"background-color:#f0f8ff; padding:10px; border-radius:8px; border-left:4px solid #4682B4;\">\n",
       "🤖 <strong>Bedrock AgentCore</strong>:<br><br>I have access to the following tools to help you:<br><br>1. **file_read**: This tool allows me to read and interact with files in various ways:<br>   - View file contents<br>   - Search for specific text in files<br>   - List files matching specific patterns<br>   - Read specific line ranges<br>   - Show file statistics<br>   - Preview file contents<br>   - Compare files (diff)<br>   - View version history<br>   - Generate document blocks for various file formats (PDF, CSV, DOC, etc.)<br><br>2. **file_write**: I can create new files or write content to existing files.<br><br>3. **speak**: I can convert text to speech, either using:<br>   - The fast \"say\" command on macOS<br>   - Amazon Polly for higher quality speech on other operating systems<br><br>Would you like me to demonstrate any of these tools or help you with a specific task?\n",
       "</div>"
      ],
      "text/plain": [
       "<IPython.core.display.Markdown object>"
      ]
     },
     "metadata": {},
     "output_type": "display_data"
    },
    {
     "name": "stdout",
     "output_type": "stream",
     "text": [
      "🤖 Bedrock AgentCore: \n"
     ]
    },
    {
     "data": {
      "text/markdown": [
       "<div style=\"background-color:#f0f8ff; padding:10px; border-radius:8px; border-left:4px solid #4682B4;\">\n",
       "🤖 <strong>Bedrock AgentCore</strong>:<br><br>Here are the files in your present directory:<br>1. `__pycache__/app.cpython-313.pyc` - A Python compiled bytecode file<br>2. `app.py` - A Python script file<br>3. `requirements.txt` - Typically contains Python package dependencies<br>4. `runtime_with_strands_and_bedrock_models.ipynb` - A Jupyter notebook file<br><br>Would you like me to examine any of these files in more detail?\n",
       "</div>"
      ],
      "text/plain": [
       "<IPython.core.display.Markdown object>"
      ]
     },
     "metadata": {},
     "output_type": "display_data"
    },
    {
     "name": "stdout",
     "output_type": "stream",
     "text": [
      "🤖 Bedrock AgentCore: \n"
     ]
    },
    {
     "data": {
      "text/markdown": [
       "<div style=\"background-color:#f0f8ff; padding:10px; border-radius:8px; border-left:4px solid #4682B4;\">\n",
       "🤖 <strong>Bedrock AgentCore</strong>:<br><br>Goodbye! It was nice chatting with you. If you need any assistance in the future with reading files, writing content, or any other tasks, feel free to reach out. Have a great day!\n",
       "</div>"
      ],
      "text/plain": [
       "<IPython.core.display.Markdown object>"
      ]
     },
     "metadata": {},
     "output_type": "display_data"
    },
    {
     "name": "stdout",
     "output_type": "stream",
     "text": [
      "Goodbye!\n"
     ]
    }
   ],
   "source": [
    "while True:\n",
    "    user_input = input(\"\\n🧑 You: \").strip()\n",
    "    if user_input.lower() in {\"exit\", \"quit\"}:\n",
    "        print(\"Goodbye!\")\n",
    "        break\n",
    "    if not user_input:\n",
    "        continue\n",
    "    \n",
    "    print(\"🤖 Bedrock AgentCore: \")\n",
    "    # Invoking the agent\n",
    "    response = bedrock_agent_core_runtime.invoke_agent_runtime(\n",
    "        agentRuntimeArn=myagentRuntimeArn,\n",
    "        qualifier=\"DEFAULT\",\n",
    "        runtimeSessionId=runtimeSessionId,\n",
    "        payload = json.dumps({\"prompt\": user_input}).encode()\n",
    "    )\n",
    "    process_output(response, chat_mode=True)"
   ]
  },
  {
   "cell_type": "code",
   "execution_count": null,
   "id": "1aac397a",
   "metadata": {},
   "outputs": [],
   "source": []
  }
 ],
 "metadata": {
  "kernelspec": {
   "display_name": ".venv",
   "language": "python",
   "name": "python3"
  },
  "language_info": {
   "codemirror_mode": {
    "name": "ipython",
    "version": 3
   },
   "file_extension": ".py",
   "mimetype": "text/x-python",
   "name": "python",
   "nbconvert_exporter": "python",
   "pygments_lexer": "ipython3",
   "version": "3.13.3"
  }
 },
 "nbformat": 4,
 "nbformat_minor": 5
}
